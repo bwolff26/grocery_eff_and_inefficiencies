{
 "cells": [
  {
   "cell_type": "markdown",
   "id": "26ad4e17",
   "metadata": {},
   "source": [
    "Let's start with re. making the grocery list. If we'd make this into an app of some kind then eh, but for now we'll do it pure python..."
   ]
  },
  {
   "cell_type": "code",
   "execution_count": 1,
   "id": "728d0061",
   "metadata": {},
   "outputs": [],
   "source": [
    "import pandas as pd"
   ]
  },
  {
   "cell_type": "code",
   "execution_count": 2,
   "id": "c3dc461e",
   "metadata": {},
   "outputs": [],
   "source": [
    "# df = pd.DataFrame(data={\n",
    "#     'name':[]\n",
    "#     ,'quantity':[]\n",
    "#     ,'cold':[]\n",
    "#     ,'location':[]\n",
    "#     ,'comment':[]\n",
    "# })\n",
    "\n",
    "# df"
   ]
  },
  {
   "cell_type": "code",
   "execution_count": 3,
   "id": "c5112946",
   "metadata": {},
   "outputs": [],
   "source": [
    "# df.to_csv('data/groc_list.csv', index=False)"
   ]
  },
  {
   "cell_type": "markdown",
   "id": "aa66f2c6",
   "metadata": {},
   "source": [
    "Now that we have the initial structure set up, let's get going."
   ]
  },
  {
   "cell_type": "code",
   "execution_count": 4,
   "id": "b4f57f77",
   "metadata": {},
   "outputs": [
    {
     "name": "stdout",
     "output_type": "stream",
     "text": [
      "(37, 5)\n"
     ]
    },
    {
     "data": {
      "text/html": [
       "<div>\n",
       "<style scoped>\n",
       "    .dataframe tbody tr th:only-of-type {\n",
       "        vertical-align: middle;\n",
       "    }\n",
       "\n",
       "    .dataframe tbody tr th {\n",
       "        vertical-align: top;\n",
       "    }\n",
       "\n",
       "    .dataframe thead th {\n",
       "        text-align: right;\n",
       "    }\n",
       "</style>\n",
       "<table border=\"1\" class=\"dataframe\">\n",
       "  <thead>\n",
       "    <tr style=\"text-align: right;\">\n",
       "      <th></th>\n",
       "      <th>name</th>\n",
       "      <th>quantity</th>\n",
       "      <th>cold</th>\n",
       "      <th>location</th>\n",
       "      <th>comment</th>\n",
       "    </tr>\n",
       "  </thead>\n",
       "  <tbody>\n",
       "    <tr>\n",
       "      <th>0</th>\n",
       "      <td>eggs</td>\n",
       "      <td>1</td>\n",
       "      <td>yes</td>\n",
       "      <td>10</td>\n",
       "      <td>NaN</td>\n",
       "    </tr>\n",
       "    <tr>\n",
       "      <th>1</th>\n",
       "      <td>milk</td>\n",
       "      <td>1</td>\n",
       "      <td>yes</td>\n",
       "      <td>10</td>\n",
       "      <td>NaN</td>\n",
       "    </tr>\n",
       "    <tr>\n",
       "      <th>2</th>\n",
       "      <td>beer</td>\n",
       "      <td>2</td>\n",
       "      <td>?</td>\n",
       "      <td>?</td>\n",
       "      <td>NaN</td>\n",
       "    </tr>\n",
       "    <tr>\n",
       "      <th>3</th>\n",
       "      <td>cheese</td>\n",
       "      <td>2</td>\n",
       "      <td>yes</td>\n",
       "      <td>7</td>\n",
       "      <td>NaN</td>\n",
       "    </tr>\n",
       "    <tr>\n",
       "      <th>4</th>\n",
       "      <td>mixed nuts</td>\n",
       "      <td>1</td>\n",
       "      <td>no</td>\n",
       "      <td>9</td>\n",
       "      <td>NaN</td>\n",
       "    </tr>\n",
       "  </tbody>\n",
       "</table>\n",
       "</div>"
      ],
      "text/plain": [
       "         name quantity cold location  comment\n",
       "0        eggs        1  yes       10      NaN\n",
       "1        milk        1  yes       10      NaN\n",
       "2        beer        2    ?        ?      NaN\n",
       "3      cheese        2  yes        7      NaN\n",
       "4  mixed nuts        1   no        9      NaN"
      ]
     },
     "execution_count": 4,
     "metadata": {},
     "output_type": "execute_result"
    }
   ],
   "source": [
    "# df = pd.read_csv('data/groc_list.csv', escapechar='\\t', delimiter=';')\n",
    "df = pd.read_csv('data/groc_list.csv')\n",
    "print(df.shape)\n",
    "df.head()"
   ]
  },
  {
   "cell_type": "code",
   "execution_count": 5,
   "id": "11cf17b8",
   "metadata": {},
   "outputs": [],
   "source": [
    "#Oh wait, w do have some datacleaning with ?... cold I can work around as we're essentially using that for boolean,\n",
    "#but lcoation... we'll have to change.. \n",
    "\n",
    "#At first we'll try replacing it with an arbitarily big number.If that doesn't work per mapping purposes later on theen\n",
    "#we can just replace it "
   ]
  },
  {
   "cell_type": "code",
   "execution_count": 6,
   "id": "815efdf8",
   "metadata": {},
   "outputs": [],
   "source": [
    "df['location'] = df['location'].str.replace('?', '9001')\n",
    "df['location'] = df['location'].astype(int)"
   ]
  },
  {
   "cell_type": "code",
   "execution_count": 7,
   "id": "3a7cbab1",
   "metadata": {},
   "outputs": [],
   "source": [
    "# df.to_csv('data/groc_list.csv')"
   ]
  },
  {
   "cell_type": "markdown",
   "id": "dac75f9b",
   "metadata": {},
   "source": [
    "We had 2 features in VBA:\n",
    "\n",
    "The first was pragmatically adding something to the list, and in all honesty the interface in VBA was quite nice and that aspect is kinda unneeded, base motivation wise to get updated, however we will anyways.\n",
    "\n",
    "Note that I honestly think SQL would be a great use for this, making a query checking if something is LIKE the others. However, this is good enough as is.\n",
    "\n",
    "The second, and something I think Python will be better at, will be organizing the list. And, this is what I'm most looking forward to so I'll start with it."
   ]
  },
  {
   "cell_type": "markdown",
   "id": "588d0e82",
   "metadata": {},
   "source": [
    "Albeit we're assuming a base assumption of the quadrants,a nd arguably we know that from the start.\n",
    "\n",
    "Ie let's reiterate the following (which I think I did a different assumption last time):\n",
    "\n",
    "Note that a quadrant is roughly equivelant to 1-4 isles parralel. In the main grocery store that I go to the back section is big enough that I give that area its own zone; the random displays before the cashiers however...\n",
    "\n",
    "M1 is to view the base quadrants starting from the back left, going from one end of the row to its end, before starting again on the second row. Ie how a regular matrix works.<br>This is how I originally grouped them.\n",
    "\n",
    "M2 is to start from the front left, like starting from A1 with the white queen's rook in a gameof chess, going from left to right... before starting the next row from A2, that rook's pawn.\n",
    "\n",
    "I think M2 is more intuitive and will start like that."
   ]
  },
  {
   "cell_type": "markdown",
   "id": "c4fdd42f",
   "metadata": {},
   "source": [
    "## Bear in mind\n",
    "That I'll be using my grocery store in mind, which is a 3x4, ultimately deciding to do M2. Hence, the base locations:<br>\n",
    "9,10,11,12<br>\n",
    "5,6,7,8<br>\n",
    "1,2,3,4<br>"
   ]
  },
  {
   "cell_type": "code",
   "execution_count": 8,
   "id": "531ff85c",
   "metadata": {},
   "outputs": [],
   "source": [
    "#The assumption is to walk down isles. Working with that, the working assumption is that one enters the store and in the\n",
    "#direction of the entrance there are already isles found; as opposed to having to make some perpendicular turn.\n",
    "\n",
    "# def orderplanner_base(rows, columns):\n",
    "#     basecolumn_names = []\n",
    "#     for i in range(columns):\n",
    "#         basecolumn_names.append(f\"{i+1}_column\")\n",
    "#     for c in range(len(basecolumn_names)):\n",
    "#         basecolumn_names[c] = [c + 1+ columns * i for i in range(rows)]\n",
    "#         print(f\"basecolumn_names[{c}]\")\n",
    "#         print(basecolumn_names[c])\n",
    "#         print(\"~\"*45)\n",
    "    \n",
    "#     return "
   ]
  },
  {
   "cell_type": "code",
   "execution_count": 9,
   "id": "c63ea90c",
   "metadata": {},
   "outputs": [],
   "source": [
    "# orderplanner_base(3, 4)"
   ]
  },
  {
   "cell_type": "markdown",
   "id": "ede2096a",
   "metadata": {},
   "source": [
    "1,5,9,,2610,3711,4,8,12"
   ]
  },
  {
   "cell_type": "code",
   "execution_count": 10,
   "id": "8e5b7df1",
   "metadata": {},
   "outputs": [],
   "source": [
    "#Good. Now let's rearrange this. We'll keep thigs simple and assume you enter through either on the \"front\" left or right\n",
    "#of the store; no noob, don't be lazy and make it any... We'll at least simplify it to one of the corners; nah, let's say\n",
    "#it's a giant store...; gah, we'll keep it simple for now and just do one of the two... Plus, even if it is giant, realistically\n",
    "#all of hte cash registers arel ikely in one area...Hmm, that could also be a thing to customize later - variable cash\n",
    "#register display.\n",
    "\n"
   ]
  },
  {
   "cell_type": "code",
   "execution_count": null,
   "id": "83b6d0d7",
   "metadata": {},
   "outputs": [],
   "source": []
  },
  {
   "cell_type": "code",
   "execution_count": 11,
   "id": "b38f7e08",
   "metadata": {},
   "outputs": [],
   "source": [
    "#We'll code for left or right, ie 1 or 4/w/e the bigger number is.\n",
    "\n",
    "def orderplanner_purchase(rows, columns, entrance, cold=True):\n",
    "    basecolumn_names = []\n",
    "    base_nos = []\n",
    "    for i in range(columns):\n",
    "        basecolumn_names.append(f\"{i+1}_column\")\n",
    "    for c in range(len(basecolumn_names)):\n",
    "        basecolumn_names[c] = [c + 1 + columns * i for i in range(rows)]\n",
    "    for i in basecolumn_names:\n",
    "        for j in i:\n",
    "            base_nos.append(j)\n",
    "    #[1, 5, 9, 2, 6, 10, 3, 7, 11, 4, 8, 12]\n",
    "    \n",
    "    #Used to hav something much more complciated, but realized could simply do this, as we'll be needed\n",
    "    #these guys still grouped to make it easier\n",
    "    \n",
    "    #In retrospect could do something like within z doors of 1... but eh, this is fine for now.\n",
    "    if entrance != 1:\n",
    "        basecolumn_names = basecolumn_names[::-1]\n",
    "     \n",
    "    zone_order = [c for c in basecolumn_names]\n",
    "    \n",
    "    #Hmm, actually it'll be easier to do cold first:\n",
    "    defaults = range(1, rows*columns + 1) #Relevant later on, but logically better to do it now.\n",
    "    \n",
    "    #Recall how we have a ? for certain thigns.... plus pragmatically we should be stingent in cases of health. Henc\n",
    "    #changing ==True to != False\n",
    "    if cold != False:\n",
    "        for c in basecolumn_names[::-1]:\n",
    "            zone_order.append([bro + rows*columns for bro in c]) #Recall that we need to adjust this for the mapping later,\n",
    "            #as otherwise we'd just map the second half, as we have repeats of zone order...\n",
    "        defaults = range(1, 2*rows*columns + 1) #Relevant later on\n",
    "    \n",
    "    for i in range(len(zone_order)):\n",
    "        if i % 2 == 1:\n",
    "            zone_order[i] = zone_order[i][::-1]\n",
    "    \n",
    "    #Now we'll just make them into a list:\n",
    "    shopping_order = []\n",
    "    for i in zone_order:\n",
    "        for j in range(rows):\n",
    "            shopping_order.append(i[j])\n",
    "    #So too for zon order, as recall that those are made up of 1,2 * columns of {row} zones:\n",
    "    \n",
    "    \n",
    "    #Now let's do a mapping:\n",
    "    #Well, pragmaticaly we'll be using this in Pandas, but eh, let's make the dictionary:\n",
    "    \n",
    "    #Note that we'd just add + r*c to the base of the cold item.\n",
    "    \n",
    "    shopping_dictionary = {shopping_order[i]:defaults[i] for i in range(len(shopping_order))}\n",
    "    #Hmm, defaults are fine, but re. shopping order...\n",
    "    \n",
    "    return shopping_dictionary"
   ]
  },
  {
   "cell_type": "code",
   "execution_count": 12,
   "id": "0b55cf0d",
   "metadata": {},
   "outputs": [],
   "source": [
    "current_order = orderplanner_purchase(3, 4, 4, cold=True)"
   ]
  },
  {
   "cell_type": "code",
   "execution_count": 13,
   "id": "c16be170",
   "metadata": {},
   "outputs": [
    {
     "data": {
      "text/plain": [
       "{4: 1,\n",
       " 8: 2,\n",
       " 12: 3,\n",
       " 11: 4,\n",
       " 7: 5,\n",
       " 3: 6,\n",
       " 2: 7,\n",
       " 6: 8,\n",
       " 10: 9,\n",
       " 9: 10,\n",
       " 5: 11,\n",
       " 1: 12,\n",
       " 13: 13,\n",
       " 17: 14,\n",
       " 21: 15,\n",
       " 22: 16,\n",
       " 18: 17,\n",
       " 14: 18,\n",
       " 15: 19,\n",
       " 19: 20,\n",
       " 23: 21,\n",
       " 24: 22,\n",
       " 20: 23,\n",
       " 16: 24}"
      ]
     },
     "execution_count": 13,
     "metadata": {},
     "output_type": "execute_result"
    }
   ],
   "source": [
    "current_order"
   ]
  },
  {
   "cell_type": "code",
   "execution_count": 14,
   "id": "ff5ad58e",
   "metadata": {},
   "outputs": [
    {
     "data": {
      "text/html": [
       "<div>\n",
       "<style scoped>\n",
       "    .dataframe tbody tr th:only-of-type {\n",
       "        vertical-align: middle;\n",
       "    }\n",
       "\n",
       "    .dataframe tbody tr th {\n",
       "        vertical-align: top;\n",
       "    }\n",
       "\n",
       "    .dataframe thead th {\n",
       "        text-align: right;\n",
       "    }\n",
       "</style>\n",
       "<table border=\"1\" class=\"dataframe\">\n",
       "  <thead>\n",
       "    <tr style=\"text-align: right;\">\n",
       "      <th></th>\n",
       "      <th>name</th>\n",
       "      <th>quantity</th>\n",
       "      <th>cold</th>\n",
       "      <th>location</th>\n",
       "      <th>comment</th>\n",
       "    </tr>\n",
       "  </thead>\n",
       "  <tbody>\n",
       "    <tr>\n",
       "      <th>0</th>\n",
       "      <td>eggs</td>\n",
       "      <td>1</td>\n",
       "      <td>yes</td>\n",
       "      <td>10</td>\n",
       "      <td>NaN</td>\n",
       "    </tr>\n",
       "    <tr>\n",
       "      <th>1</th>\n",
       "      <td>milk</td>\n",
       "      <td>1</td>\n",
       "      <td>yes</td>\n",
       "      <td>10</td>\n",
       "      <td>NaN</td>\n",
       "    </tr>\n",
       "    <tr>\n",
       "      <th>2</th>\n",
       "      <td>beer</td>\n",
       "      <td>2</td>\n",
       "      <td>?</td>\n",
       "      <td>9001</td>\n",
       "      <td>NaN</td>\n",
       "    </tr>\n",
       "    <tr>\n",
       "      <th>3</th>\n",
       "      <td>cheese</td>\n",
       "      <td>2</td>\n",
       "      <td>yes</td>\n",
       "      <td>7</td>\n",
       "      <td>NaN</td>\n",
       "    </tr>\n",
       "    <tr>\n",
       "      <th>4</th>\n",
       "      <td>mixed nuts</td>\n",
       "      <td>1</td>\n",
       "      <td>no</td>\n",
       "      <td>9</td>\n",
       "      <td>NaN</td>\n",
       "    </tr>\n",
       "  </tbody>\n",
       "</table>\n",
       "</div>"
      ],
      "text/plain": [
       "         name quantity cold  location  comment\n",
       "0        eggs        1  yes        10      NaN\n",
       "1        milk        1  yes        10      NaN\n",
       "2        beer        2    ?      9001      NaN\n",
       "3      cheese        2  yes         7      NaN\n",
       "4  mixed nuts        1   no         9      NaN"
      ]
     },
     "execution_count": 14,
     "metadata": {},
     "output_type": "execute_result"
    }
   ],
   "source": [
    "#Now lt's apply it:\n",
    "df.head()"
   ]
  },
  {
   "cell_type": "code",
   "execution_count": 15,
   "id": "93c6db5f",
   "metadata": {},
   "outputs": [],
   "source": [
    "conditions = [\n",
    "    df['cold'] == 'no'\n",
    "    ,df['cold'] != 'no'\n",
    "]\n",
    "results = [\n",
    "    df['location']\n",
    "    ,df['location']+12\n",
    "]"
   ]
  },
  {
   "cell_type": "code",
   "execution_count": 16,
   "id": "5ea55848",
   "metadata": {},
   "outputs": [],
   "source": [
    "#Hmm, this might be tricki than I thought\n",
    "\n",
    "df['order'] = [df['location'][i] if df['cold'][i] != 'no' else df['location'][i] + 12 for i in range(len(df['location']))]"
   ]
  },
  {
   "cell_type": "code",
   "execution_count": 17,
   "id": "2c4ed0a6",
   "metadata": {},
   "outputs": [
    {
     "data": {
      "text/html": [
       "<div>\n",
       "<style scoped>\n",
       "    .dataframe tbody tr th:only-of-type {\n",
       "        vertical-align: middle;\n",
       "    }\n",
       "\n",
       "    .dataframe tbody tr th {\n",
       "        vertical-align: top;\n",
       "    }\n",
       "\n",
       "    .dataframe thead th {\n",
       "        text-align: right;\n",
       "    }\n",
       "</style>\n",
       "<table border=\"1\" class=\"dataframe\">\n",
       "  <thead>\n",
       "    <tr style=\"text-align: right;\">\n",
       "      <th></th>\n",
       "      <th>name</th>\n",
       "      <th>quantity</th>\n",
       "      <th>cold</th>\n",
       "      <th>location</th>\n",
       "      <th>comment</th>\n",
       "      <th>order</th>\n",
       "    </tr>\n",
       "  </thead>\n",
       "  <tbody>\n",
       "    <tr>\n",
       "      <th>0</th>\n",
       "      <td>eggs</td>\n",
       "      <td>1</td>\n",
       "      <td>yes</td>\n",
       "      <td>10</td>\n",
       "      <td>NaN</td>\n",
       "      <td>10</td>\n",
       "    </tr>\n",
       "    <tr>\n",
       "      <th>1</th>\n",
       "      <td>milk</td>\n",
       "      <td>1</td>\n",
       "      <td>yes</td>\n",
       "      <td>10</td>\n",
       "      <td>NaN</td>\n",
       "      <td>10</td>\n",
       "    </tr>\n",
       "    <tr>\n",
       "      <th>2</th>\n",
       "      <td>beer</td>\n",
       "      <td>2</td>\n",
       "      <td>?</td>\n",
       "      <td>9001</td>\n",
       "      <td>NaN</td>\n",
       "      <td>9001</td>\n",
       "    </tr>\n",
       "    <tr>\n",
       "      <th>3</th>\n",
       "      <td>cheese</td>\n",
       "      <td>2</td>\n",
       "      <td>yes</td>\n",
       "      <td>7</td>\n",
       "      <td>NaN</td>\n",
       "      <td>7</td>\n",
       "    </tr>\n",
       "    <tr>\n",
       "      <th>4</th>\n",
       "      <td>mixed nuts</td>\n",
       "      <td>1</td>\n",
       "      <td>no</td>\n",
       "      <td>9</td>\n",
       "      <td>NaN</td>\n",
       "      <td>21</td>\n",
       "    </tr>\n",
       "  </tbody>\n",
       "</table>\n",
       "</div>"
      ],
      "text/plain": [
       "         name quantity cold  location  comment  order\n",
       "0        eggs        1  yes        10      NaN     10\n",
       "1        milk        1  yes        10      NaN     10\n",
       "2        beer        2    ?      9001      NaN   9001\n",
       "3      cheese        2  yes         7      NaN      7\n",
       "4  mixed nuts        1   no         9      NaN     21"
      ]
     },
     "execution_count": 17,
     "metadata": {},
     "output_type": "execute_result"
    }
   ],
   "source": [
    "df.head()"
   ]
  },
  {
   "cell_type": "code",
   "execution_count": null,
   "id": "ab1b7ba0",
   "metadata": {},
   "outputs": [],
   "source": []
  },
  {
   "cell_type": "markdown",
   "id": "c27f52eb",
   "metadata": {},
   "source": [
    "Now, if we have 1 as an entrance then we'd keep this 'base' order, but since we have 4:\n",
    "\n",
    "And, note that we'd \"want\" it in this following:\n",
    "4812,,3711,,2610,,159\n",
    "\n",
    "Anyways, we got the mapping done. The idea to be would be to apply it to whatever the final pandas dataframe is, sorting it by that.\n",
    "\n",
    "Hmm, so what's the next step? Guess now let's work on somehow iterating in Python through each item, asking if we want it."
   ]
  },
  {
   "cell_type": "markdown",
   "id": "817826d4",
   "metadata": {},
   "source": [
    "M1  - Figure that out somehow, ie like what we had in VBA. Ie where we go through each item and ask if we need it...\n",
    "\n",
    "M2 - Given a list of items, choose just those bros...\n",
    "\n",
    "At the same time, we'd like to then filter out those guys and redo m1... ie yeah, one thing to pre-gam the list, but it's like - who says you didn't miss out on something lse?!?!!? Plus, another disadvanag is that we'd then have to pre=-write the quantities somehow or still go back though those and update them for the quantities...\n",
    "\n",
    "At the moment, I'm inclined to say just do M1 and we'll print out the default quantity, not eve bothering to ask for the quantity; no, perhaps have an optional thing for one; regardless, don't focus on quantity but just items, going through ach bro, asking if you want it."
   ]
  },
  {
   "cell_type": "code",
   "execution_count": 18,
   "id": "1b4c6e71",
   "metadata": {},
   "outputs": [],
   "source": [
    "i = -1\n",
    "current_list = []"
   ]
  },
  {
   "cell_type": "code",
   "execution_count": 19,
   "id": "0173fbfe",
   "metadata": {},
   "outputs": [
    {
     "data": {
      "text/plain": [
       "'eggs'"
      ]
     },
     "execution_count": 19,
     "metadata": {},
     "output_type": "execute_result"
    }
   ],
   "source": [
    "i += 1\n",
    "df['name'][i]"
   ]
  },
  {
   "cell_type": "code",
   "execution_count": 20,
   "id": "086487ef",
   "metadata": {},
   "outputs": [],
   "source": [
    "#Fututr streamlit code for variable input to be like if yes or whatever, perhaps if True:"
   ]
  },
  {
   "cell_type": "code",
   "execution_count": 21,
   "id": "d4d5e0e5",
   "metadata": {},
   "outputs": [],
   "source": [
    "#Then I suppose we'd make a new table.Hmm...how to do that?\n",
    "#m1 start wih just hte nam, and we'll drag them from the original later\n",
    "    #Yeah, hat seems like the best. Plus, I honestly would still like more work with cmbining\n",
    "\n",
    "#m2, there still is a certain simplcity of grabing all that information now.\n",
    "\n",
    "decision = True\n",
    "if decision == True:\n",
    "    current_list.append(df['name'][i])"
   ]
  },
  {
   "cell_type": "code",
   "execution_count": 22,
   "id": "25258693",
   "metadata": {},
   "outputs": [],
   "source": [
    "grocery_list = pd.DataFrame(data={'name':current_list})"
   ]
  },
  {
   "cell_type": "code",
   "execution_count": 23,
   "id": "3a85a328",
   "metadata": {},
   "outputs": [
    {
     "data": {
      "text/html": [
       "<div>\n",
       "<style scoped>\n",
       "    .dataframe tbody tr th:only-of-type {\n",
       "        vertical-align: middle;\n",
       "    }\n",
       "\n",
       "    .dataframe tbody tr th {\n",
       "        vertical-align: top;\n",
       "    }\n",
       "\n",
       "    .dataframe thead th {\n",
       "        text-align: right;\n",
       "    }\n",
       "</style>\n",
       "<table border=\"1\" class=\"dataframe\">\n",
       "  <thead>\n",
       "    <tr style=\"text-align: right;\">\n",
       "      <th></th>\n",
       "      <th>name</th>\n",
       "      <th>quantity</th>\n",
       "      <th>cold</th>\n",
       "      <th>location</th>\n",
       "      <th>comment</th>\n",
       "      <th>order</th>\n",
       "    </tr>\n",
       "  </thead>\n",
       "  <tbody>\n",
       "    <tr>\n",
       "      <th>0</th>\n",
       "      <td>eggs</td>\n",
       "      <td>1</td>\n",
       "      <td>yes</td>\n",
       "      <td>10</td>\n",
       "      <td>NaN</td>\n",
       "      <td>10</td>\n",
       "    </tr>\n",
       "  </tbody>\n",
       "</table>\n",
       "</div>"
      ],
      "text/plain": [
       "   name quantity cold  location  comment  order\n",
       "0  eggs        1  yes        10      NaN     10"
      ]
     },
     "execution_count": 23,
     "metadata": {},
     "output_type": "execute_result"
    }
   ],
   "source": [
    "grocery_list = grocery_list.join(df.set_index('name'), on=['name'], how='left') #Seems like we always have to set the indexes...\n",
    "#Albit we don't have to formally do it on both, as hte on paramter does that, but effectively we still are...\n",
    "grocery_list"
   ]
  },
  {
   "cell_type": "code",
   "execution_count": 24,
   "id": "67c58634",
   "metadata": {},
   "outputs": [],
   "source": [
    "#Oh, make sure we actually applied the order... was wondering why this was off - as this s still per quadrans.."
   ]
  },
  {
   "cell_type": "code",
   "execution_count": 25,
   "id": "820c6378",
   "metadata": {},
   "outputs": [
    {
     "data": {
      "text/html": [
       "<div>\n",
       "<style scoped>\n",
       "    .dataframe tbody tr th:only-of-type {\n",
       "        vertical-align: middle;\n",
       "    }\n",
       "\n",
       "    .dataframe tbody tr th {\n",
       "        vertical-align: top;\n",
       "    }\n",
       "\n",
       "    .dataframe thead th {\n",
       "        text-align: right;\n",
       "    }\n",
       "</style>\n",
       "<table border=\"1\" class=\"dataframe\">\n",
       "  <thead>\n",
       "    <tr style=\"text-align: right;\">\n",
       "      <th></th>\n",
       "      <th>name</th>\n",
       "      <th>quantity</th>\n",
       "    </tr>\n",
       "  </thead>\n",
       "  <tbody>\n",
       "    <tr>\n",
       "      <th>0</th>\n",
       "      <td>eggs</td>\n",
       "      <td>1</td>\n",
       "    </tr>\n",
       "  </tbody>\n",
       "</table>\n",
       "</div>"
      ],
      "text/plain": [
       "   name quantity\n",
       "0  eggs        1"
      ]
     },
     "execution_count": 25,
     "metadata": {},
     "output_type": "execute_result"
    }
   ],
   "source": [
    "grocery_list.sort_values(by=['location']).head(df.shape[0])[['name', 'quantity']]"
   ]
  },
  {
   "cell_type": "markdown",
   "id": "ba4f431b",
   "metadata": {},
   "source": [
    "Now that we finished this, we're onto the next step of generating the list... Looks like we're going back to Streamlit\n"
   ]
  },
  {
   "cell_type": "markdown",
   "id": "6e259886",
   "metadata": {},
   "source": [
    "Actually, let's go back a few steps:\n",
    "\n",
    "Recall that we have two parts of the problem:\n",
    "\n",
    "The first is maintaining/updating the list. Included in that is making sure no duplicate information gets put in, store is correct, etc.\n",
    "\n",
    "The second is pulling from that whatever items currently desired.\n",
    "\n",
    "@@@@@@@@@@@@@@@@@@@@@@\n",
    "\n",
    "Honestly, the first part is ideal in Excel... yeah, potentially I could make something better, but it's like why bother...\n",
    "\n",
    "Re. the second part - yeah,potentally a web-app would be better, ie something boss with streamlit that would let me show the list and manually click whatever I need then refresh, assuming it can even do something like that, but the effort...\n",
    "\n",
    "Ie I'd like that more than the current 1 at a time in Excel, but it's like it aint broke... plus it forces me to go through each one.... Now, while albeit the current list is only needed for Jewel; oh, never mind - regardless of the format, that column would need to change to accomodate the current main grocery store that I go to...\n",
    "\n",
    "So, unfortunately this project is being frozen indefinitely (4/3/24)... While I do find merit in completing it, I just have no motiviation to do so when my Excel/VBA version works fine. Plus, I'll still keep the minor victory of that somewhat complex zone-to-order conversion formula."
   ]
  },
  {
   "cell_type": "code",
   "execution_count": null,
   "id": "bd79be18",
   "metadata": {},
   "outputs": [],
   "source": []
  }
 ],
 "metadata": {
  "kernelspec": {
   "display_name": "Python 3 (ipykernel)",
   "language": "python",
   "name": "python3"
  },
  "language_info": {
   "codemirror_mode": {
    "name": "ipython",
    "version": 3
   },
   "file_extension": ".py",
   "mimetype": "text/x-python",
   "name": "python",
   "nbconvert_exporter": "python",
   "pygments_lexer": "ipython3",
   "version": "3.11.5"
  }
 },
 "nbformat": 4,
 "nbformat_minor": 5
}
