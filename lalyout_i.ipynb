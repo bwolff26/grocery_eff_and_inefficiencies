{
 "cells": [
  {
   "cell_type": "markdown",
   "id": "26ad4e17",
   "metadata": {},
   "source": [
    "Let's start with re. making the grocery list. If we'd make this into an app of some kind then eh, but for now we'll do it pure python..."
   ]
  },
  {
   "cell_type": "code",
   "execution_count": 2,
   "id": "728d0061",
   "metadata": {},
   "outputs": [],
   "source": [
    "import pandas as pd"
   ]
  },
  {
   "cell_type": "code",
   "execution_count": 10,
   "id": "c3dc461e",
   "metadata": {},
   "outputs": [],
   "source": [
    "# df = pd.DataFrame(data={\n",
    "#     'name':[]\n",
    "#     ,'quantity':[]\n",
    "#     ,'cold':[]\n",
    "#     ,'location':[]\n",
    "#     ,'comment':[]\n",
    "# })\n",
    "\n",
    "# df"
   ]
  },
  {
   "cell_type": "code",
   "execution_count": 8,
   "id": "c5112946",
   "metadata": {},
   "outputs": [],
   "source": [
    "# df.to_csv('data/groc_list.csv', index=False)"
   ]
  },
  {
   "cell_type": "markdown",
   "id": "4391ae3e",
   "metadata": {},
   "source": [
    "Now that we have the initial structure set up, let's get going."
   ]
  },
  {
   "cell_type": "code",
   "execution_count": 9,
   "id": "b4f57f77",
   "metadata": {},
   "outputs": [
    {
     "name": "stdout",
     "output_type": "stream",
     "text": [
      "(37, 5)\n"
     ]
    },
    {
     "data": {
      "text/html": [
       "<div>\n",
       "<style scoped>\n",
       "    .dataframe tbody tr th:only-of-type {\n",
       "        vertical-align: middle;\n",
       "    }\n",
       "\n",
       "    .dataframe tbody tr th {\n",
       "        vertical-align: top;\n",
       "    }\n",
       "\n",
       "    .dataframe thead th {\n",
       "        text-align: right;\n",
       "    }\n",
       "</style>\n",
       "<table border=\"1\" class=\"dataframe\">\n",
       "  <thead>\n",
       "    <tr style=\"text-align: right;\">\n",
       "      <th></th>\n",
       "      <th>name</th>\n",
       "      <th>quantity</th>\n",
       "      <th>cold</th>\n",
       "      <th>location</th>\n",
       "      <th>comment</th>\n",
       "    </tr>\n",
       "  </thead>\n",
       "  <tbody>\n",
       "    <tr>\n",
       "      <th>0</th>\n",
       "      <td>eggs</td>\n",
       "      <td>1</td>\n",
       "      <td>yes</td>\n",
       "      <td>2</td>\n",
       "      <td>NaN</td>\n",
       "    </tr>\n",
       "    <tr>\n",
       "      <th>1</th>\n",
       "      <td>milk</td>\n",
       "      <td>1</td>\n",
       "      <td>yes</td>\n",
       "      <td>2</td>\n",
       "      <td>NaN</td>\n",
       "    </tr>\n",
       "    <tr>\n",
       "      <th>2</th>\n",
       "      <td>beer</td>\n",
       "      <td>2</td>\n",
       "      <td>?</td>\n",
       "      <td>?</td>\n",
       "      <td>NaN</td>\n",
       "    </tr>\n",
       "    <tr>\n",
       "      <th>3</th>\n",
       "      <td>cheese</td>\n",
       "      <td>2</td>\n",
       "      <td>yes</td>\n",
       "      <td>7</td>\n",
       "      <td>NaN</td>\n",
       "    </tr>\n",
       "    <tr>\n",
       "      <th>4</th>\n",
       "      <td>mixed nuts</td>\n",
       "      <td>1</td>\n",
       "      <td>no</td>\n",
       "      <td>1</td>\n",
       "      <td>NaN</td>\n",
       "    </tr>\n",
       "  </tbody>\n",
       "</table>\n",
       "</div>"
      ],
      "text/plain": [
       "         name quantity cold location  comment\n",
       "0        eggs        1  yes        2      NaN\n",
       "1        milk        1  yes        2      NaN\n",
       "2        beer        2    ?        ?      NaN\n",
       "3      cheese        2  yes        7      NaN\n",
       "4  mixed nuts        1   no        1      NaN"
      ]
     },
     "execution_count": 9,
     "metadata": {},
     "output_type": "execute_result"
    }
   ],
   "source": [
    "# df = pd.read_csv('data/groc_list.csv', escapechar='\\t', delimiter=';')\n",
    "df = pd.read_csv('data/groc_list.csv')\n",
    "print(df.shape)\n",
    "df.head()"
   ]
  },
  {
   "cell_type": "markdown",
   "id": "b271f77d",
   "metadata": {},
   "source": [
    "We had 2 features in VBA:\n",
    "\n",
    "The first was pragmatically adding something to the list, and in all honesty the interface in VBA was quite nice and that aspect is kinda unneeded, base motivation wise to get updated, however we will anyways.\n",
    "\n",
    "Note that I honestly think SQL would be a great use for this, making a query checking if something is LIKE the others. However, this is good enough as is.\n",
    "\n",
    "The second, and something I think Python will be better at, will be organizing the list. And, this is what I'm most looking forward to so I'll start with it."
   ]
  },
  {
   "cell_type": "markdown",
   "id": "e8e47446",
   "metadata": {},
   "source": [
    "Albeit we're assuming a base assumption of the quadrants,a nd arguably we know that from the start.\n",
    "\n",
    "Ie let's reiterate the following (which I think I did a different assumption last time):\n",
    "\n",
    "Note that a quadrant is roughly equivelant to 1-4 isles parralel. In the main grocery store that I go to the back section is big enough that I give that area its own zone; the random displays before the cashiers however...\n",
    "\n",
    "M1 is to view the base quadrants starting from the back left, going from one end of the row to its end, before starting again on the second row. Ie how a regular matrix works.<br>This is how I originally grouped them.\n",
    "\n",
    "M2 is to start from the front left, like starting from A1 with the white queen's rook in a gameof chess, going from left to right... before starting the next row from A2, that rook's pawn.\n",
    "\n",
    "I think M2 is more intuitive and will start like that."
   ]
  },
  {
   "cell_type": "markdown",
   "id": "0a3b0ad2",
   "metadata": {},
   "source": [
    "## Bear in mind\n",
    "That I'll be using my grocery store in mind, which is a 3x4, ultimately deciding to do M2. Hence, the base locations:<br>\n",
    "9,10,11,12<br>\n",
    "5,6,7,8<br>\n",
    "1,2,3,4<br>"
   ]
  },
  {
   "cell_type": "code",
   "execution_count": 24,
   "id": "1a7b92c2",
   "metadata": {},
   "outputs": [],
   "source": [
    "#The assumption is to walk down isles. Working with that, the working assumption is that one enters the store and in the\n",
    "#direction of the entrance there are already isles found; as opposed to having to make some perpendicular turn.\n",
    "\n",
    "def orderplanner_base(rows, columns):\n",
    "    basecolumn_names = []\n",
    "    for i in range(columns):\n",
    "        basecolumn_names.append(f\"{i+1}_column\")\n",
    "    for c in range(len(basecolumn_names)):\n",
    "        basecolumn_names[c] = [c + 1+ columns * i for i in range(rows)]\n",
    "        print(f\"basecolumn_names[{c}]\")\n",
    "        print(basecolumn_names[c])\n",
    "        print(\"~\"*45)\n",
    "    \n",
    "    return "
   ]
  },
  {
   "cell_type": "code",
   "execution_count": 25,
   "id": "00f8cf0a",
   "metadata": {},
   "outputs": [
    {
     "name": "stdout",
     "output_type": "stream",
     "text": [
      "basecolumn_names[0]\n",
      "[1, 5, 9]\n",
      "~~~~~~~~~~~~~~~~~~~~~~~~~~~~~~~~~~~~~~~~~~~~~\n",
      "basecolumn_names[1]\n",
      "[2, 6, 10]\n",
      "~~~~~~~~~~~~~~~~~~~~~~~~~~~~~~~~~~~~~~~~~~~~~\n",
      "basecolumn_names[2]\n",
      "[3, 7, 11]\n",
      "~~~~~~~~~~~~~~~~~~~~~~~~~~~~~~~~~~~~~~~~~~~~~\n",
      "basecolumn_names[3]\n",
      "[4, 8, 12]\n",
      "~~~~~~~~~~~~~~~~~~~~~~~~~~~~~~~~~~~~~~~~~~~~~\n"
     ]
    }
   ],
   "source": [
    "orderplanner_base(3, 4)"
   ]
  },
  {
   "cell_type": "markdown",
   "id": "f6b6a565",
   "metadata": {},
   "source": [
    "1,5,9,,2610,3711,4,8,12"
   ]
  },
  {
   "cell_type": "code",
   "execution_count": null,
   "id": "ed768bfd",
   "metadata": {},
   "outputs": [],
   "source": [
    "#Good. Now let's rearrange this. We'll keep thigs simple and assume you enter through either on the \"front\" left or right\n",
    "#of the store; no noob, don't be lazy and make it any... We'll at least simplify it to one of the corners; nah, let's say\n",
    "#it's a giant store...; gah, we'll keep it simple for now and just do one of the two... Plus, even if it is giant, realistically\n",
    "#all of hte cash registers arel ikely in one area...Hmm, that could also be a thing to customize later - variable cash\n",
    "#register display.\n",
    "\n"
   ]
  },
  {
   "cell_type": "code",
   "execution_count": null,
   "id": "f9ed01f5",
   "metadata": {},
   "outputs": [],
   "source": []
  },
  {
   "cell_type": "code",
   "execution_count": 204,
   "id": "3952fe04",
   "metadata": {},
   "outputs": [],
   "source": [
    "#We'll code for left or right, ie 1 or 4/w/e the bigger number is.\n",
    "\n",
    "def orderplanner_purchase(rows, columns, entrance, cold=True):\n",
    "    basecolumn_names = []\n",
    "    base_nos = []\n",
    "    for i in range(columns):\n",
    "        basecolumn_names.append(f\"{i+1}_column\")\n",
    "    for c in range(len(basecolumn_names)):\n",
    "        basecolumn_names[c] = [c + 1 + columns * i for i in range(rows)]\n",
    "    for i in basecolumn_names:\n",
    "        for j in i:\n",
    "            base_nos.append(j)\n",
    "    #[1, 5, 9, 2, 6, 10, 3, 7, 11, 4, 8, 12]\n",
    "    \n",
    "    #Used to hav something much more complciated, but realized could simply do this, as we'll be needed\n",
    "    #these guys still grouped to make it easier\n",
    "    \n",
    "    #In retrospect could do something like within z doors of 1... but eh, this is fine for now.\n",
    "    if entrance != 1:\n",
    "        basecolumn_names = basecolumn_names[::-1]\n",
    "     \n",
    "    zone_order = [c for c in basecolumn_names]\n",
    "    \n",
    "    #Hmm, actually it'll be easier to do cold first:\n",
    "    defaults = range(1, rows*columns + 1) #Relevant later on, but logically better to do it now.\n",
    "    \n",
    "    if cold == True:\n",
    "        for c in basecolumn_names[::-1]:\n",
    "            zone_order.append(c)\n",
    "        defaults = range(1, 2*rows*columns + 1) #Relevant later on\n",
    "    \n",
    "    for i in range(len(zone_order)):\n",
    "        if i % 2 == 1:\n",
    "            zone_order[i] = zone_order[i][::-1]\n",
    "    \n",
    "    #Now we'll just make them into a list:\n",
    "    shopping_order = []\n",
    "    for i in zone_order:\n",
    "        for j in range(rows):\n",
    "            shopping_order.append(i[j])\n",
    "    #So too for zon order, as recall that those are made up of 1,2 * columns of {row} zones:\n",
    "    \n",
    "    \n",
    "    #Now let's do a mapping:\n",
    "    #Well, pragmaticaly we'll be using this in Pandas, but eh, let's make the dictionary:\n",
    "    \n",
    "    #Note that we'd just add + r*c to the base of the cold item.\n",
    "    \n",
    "    shopping_dictionary = {shopping_order[i]:defaults[i] for i in range(len(shopping_order))}\n",
    "    \n",
    "    return"
   ]
  },
  {
   "cell_type": "code",
   "execution_count": 205,
   "id": "ee8e6e29",
   "metadata": {},
   "outputs": [
    {
     "data": {
      "text/plain": [
       "1"
      ]
     },
     "execution_count": 205,
     "metadata": {},
     "output_type": "execute_result"
    }
   ],
   "source": [
    "orderplanner_purchase(3, 4, 4, cold=True)"
   ]
  },
  {
   "cell_type": "markdown",
   "id": "56df5575",
   "metadata": {},
   "source": [
    "Now, if we have 1 as an entrance then we'd keep this 'base' order, but since we have 4:\n",
    "\n",
    "And, note that we'd \"want\" it in this following:\n",
    "4812,,3711,,2610,,159"
   ]
  },
  {
   "cell_type": "code",
   "execution_count": 117,
   "id": "7cad73d4",
   "metadata": {},
   "outputs": [],
   "source": [
    "def section_rearranger(listo, columns): #and in this case parts are just columns\n",
    "    final = []\n",
    "    rows = int(len(listo)/columns) #unneeded in final\n",
    "    rev = range(0, len(listo), rows)[::-1] #Looks funy, range(9,-3,-3) but it's what we want\n",
    "    for i in rev:\n",
    "        for j in range(rows):\n",
    "            final.append(listo[i+j])\n",
    "    return final"
   ]
  },
  {
   "cell_type": "code",
   "execution_count": 118,
   "id": "1431f5e8",
   "metadata": {},
   "outputs": [
    {
     "data": {
      "text/plain": [
       "[4, 8, 12, 3, 7, 11, 2, 6, 10, 1, 5, 9]"
      ]
     },
     "execution_count": 118,
     "metadata": {},
     "output_type": "execute_result"
    }
   ],
   "source": [
    "columns = 4\n",
    "section_rearranger([1, 5, 9, 2, 6, 10, 3, 7, 11, 4, 8, 12],columns)"
   ]
  },
  {
   "cell_type": "code",
   "execution_count": 38,
   "id": "80d5e76e",
   "metadata": {},
   "outputs": [],
   "source": [
    "listo = [1, 5, 9, 2, 6, 10, 3, 7, 11, 4, 8, 12]"
   ]
  },
  {
   "cell_type": "code",
   "execution_count": 102,
   "id": "3d3eb1ed",
   "metadata": {},
   "outputs": [
    {
     "ename": "IndexError",
     "evalue": "range object index out of range",
     "output_type": "error",
     "traceback": [
      "\u001b[1;31m---------------------------------------------------------------------------\u001b[0m",
      "\u001b[1;31mIndexError\u001b[0m                                Traceback (most recent call last)",
      "Cell \u001b[1;32mIn[102], line 1\u001b[0m\n\u001b[1;32m----> 1\u001b[0m \u001b[38;5;28mrange\u001b[39m(\u001b[38;5;241m0\u001b[39m, \u001b[38;5;28mlen\u001b[39m(listo), \u001b[38;5;241m-\u001b[39m\u001b[38;5;241m3\u001b[39m)[\u001b[38;5;241m-\u001b[39m\u001b[38;5;241m1\u001b[39m]\n",
      "\u001b[1;31mIndexError\u001b[0m: range object index out of range"
     ]
    }
   ],
   "source": [
    "range(0, len(listo), -3)[-1]"
   ]
  },
  {
   "cell_type": "code",
   "execution_count": 131,
   "id": "624001e4",
   "metadata": {},
   "outputs": [
    {
     "data": {
      "text/plain": [
       "0"
      ]
     },
     "execution_count": 131,
     "metadata": {},
     "output_type": "execute_result"
    }
   ],
   "source": [
    "0 % 2"
   ]
  },
  {
   "cell_type": "code",
   "execution_count": 184,
   "id": "1df7789d",
   "metadata": {},
   "outputs": [],
   "source": [
    "listo = [1, 5, 9, 2, 6, 10, 3, 7, 11, 4, 8, 12]\n",
    "defin = range(1, 13)"
   ]
  },
  {
   "cell_type": "code",
   "execution_count": 186,
   "id": "b1ae2530",
   "metadata": {},
   "outputs": [],
   "source": [
    "mang = zip(listo, defin)"
   ]
  },
  {
   "cell_type": "code",
   "execution_count": 189,
   "id": "f55f25d6",
   "metadata": {},
   "outputs": [
    {
     "ename": "TypeError",
     "evalue": "'zip' object is not subscriptable",
     "output_type": "error",
     "traceback": [
      "\u001b[1;31m---------------------------------------------------------------------------\u001b[0m",
      "\u001b[1;31mTypeError\u001b[0m                                 Traceback (most recent call last)",
      "Cell \u001b[1;32mIn[189], line 1\u001b[0m\n\u001b[1;32m----> 1\u001b[0m mang[\u001b[38;5;241m0\u001b[39m]\n",
      "\u001b[1;31mTypeError\u001b[0m: 'zip' object is not subscriptable"
     ]
    }
   ],
   "source": [
    "mang[0]"
   ]
  }
 ],
 "metadata": {
  "kernelspec": {
   "display_name": "Python 3 (ipykernel)",
   "language": "python",
   "name": "python3"
  },
  "language_info": {
   "codemirror_mode": {
    "name": "ipython",
    "version": 3
   },
   "file_extension": ".py",
   "mimetype": "text/x-python",
   "name": "python",
   "nbconvert_exporter": "python",
   "pygments_lexer": "ipython3",
   "version": "3.11.5"
  }
 },
 "nbformat": 4,
 "nbformat_minor": 5
}
